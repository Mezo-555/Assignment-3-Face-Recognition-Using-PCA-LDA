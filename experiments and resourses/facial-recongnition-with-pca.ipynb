{
 "cells": [
  {
   "cell_type": "markdown",
   "metadata": {
    "execution": {
     "iopub.execute_input": "2023-03-08T09:27:35.802610Z",
     "iopub.status.busy": "2023-03-08T09:27:35.802079Z",
     "iopub.status.idle": "2023-03-08T09:27:35.808459Z",
     "shell.execute_reply": "2023-03-08T09:27:35.807057Z",
     "shell.execute_reply.started": "2023-03-08T09:27:35.802557Z"
    }
   },
   "source": [
    "## Importing libraries and dependencies"
   ]
  },
  {
   "cell_type": "code",
   "execution_count": null,
   "metadata": {
    "_cell_guid": "b1076dfc-b9ad-4769-8c92-a6c4dae69d19",
    "_kg_hide-output": true,
    "_uuid": "8f2839f25d086af736a60e9eeb907d3b93b6e0e5",
    "execution": {
     "iopub.execute_input": "2023-03-17T19:26:27.908105Z",
     "iopub.status.busy": "2023-03-17T19:26:27.907706Z",
     "iopub.status.idle": "2023-03-17T19:26:29.006356Z",
     "shell.execute_reply": "2023-03-17T19:26:29.004880Z",
     "shell.execute_reply.started": "2023-03-17T19:26:27.908070Z"
    },
    "trusted": true
   },
   "outputs": [],
   "source": [
    "import numpy as np # linear algebra\n",
    "import pandas as pd # data processing, CSV file I/O (e.g. pd.read_csv)|\n",
    "from skimage.io import imread\n",
    "import os\n",
    "import cv2\n",
    "from matplotlib import pyplot as plt\n",
    "from sklearn.neighbors import KNeighborsClassifier\n",
    "from sklearn.metrics import classification_report\n",
    "from numpy import linalg as LA\n",
    "from numpy.linalg import inv"
   ]
  },
  {
   "cell_type": "markdown",
   "metadata": {},
   "source": [
    "## Loading dataset"
   ]
  },
  {
   "cell_type": "code",
   "execution_count": null,
   "metadata": {
    "execution": {
     "iopub.execute_input": "2023-03-17T19:26:29.008495Z",
     "iopub.status.busy": "2023-03-17T19:26:29.008143Z",
     "iopub.status.idle": "2023-03-17T19:26:37.653834Z",
     "shell.execute_reply": "2023-03-17T19:26:37.652489Z",
     "shell.execute_reply.started": "2023-03-17T19:26:29.008461Z"
    },
    "trusted": true
   },
   "outputs": [],
   "source": [
    "entries = os.listdir('/kaggle/input/att-database-of-faces/')\n",
    "entries.remove('README')\n",
    "entries=sorted(entries)\n",
    "\n",
    "labels=[]\n",
    "D=[]\n",
    "for entry in entries:\n",
    "    for filename in os.listdir(os.path.join('/kaggle/input/att-database-of-faces/',entry)):\n",
    "        z=entry+'/'+filename\n",
    "        img = imread(os.path.join('/kaggle/input/att-database-of-faces/',z))\n",
    "        if img is not None:  \n",
    "            D.append(img)\n",
    "            j=entry[1:]\n",
    "            int(j)\n",
    "            labels.append(j)\n",
    "labels=np.array(labels)\n",
    "D=np.array(D)\n",
    "\n",
    "D = D.reshape((400, 10304))"
   ]
  },
  {
   "cell_type": "code",
   "execution_count": null,
   "metadata": {},
   "outputs": [],
   "source": [
    "_,axxr = plt.subplots(40,10, figsize=(12,60))\n",
    "for i in range(40):\n",
    "    for j in range(10):\n",
    "        axxr[i][j].imshow(D[i][j].squeeze(), cmap='gray')\n",
    "plt.setp(plt.gcf().get_axes(), xticks=[], yticks=[])\n",
    "# ref : https://stackoverflow.com/questions/25124143/matplotlib-subplots-get-rid-of-tick-labels-altogether\n",
    "plt.show()"
   ]
  },
  {
   "cell_type": "markdown",
   "metadata": {},
   "source": [
    "## train_test split"
   ]
  },
  {
   "cell_type": "code",
   "execution_count": null,
   "metadata": {
    "execution": {
     "iopub.execute_input": "2023-03-17T19:26:37.656336Z",
     "iopub.status.busy": "2023-03-17T19:26:37.655964Z",
     "iopub.status.idle": "2023-03-17T19:26:37.668513Z",
     "shell.execute_reply": "2023-03-17T19:26:37.667303Z",
     "shell.execute_reply.started": "2023-03-17T19:26:37.656294Z"
    },
    "trusted": true
   },
   "outputs": [],
   "source": [
    "x_train = []\n",
    "y_train = []\n",
    "x_test = []\n",
    "y_test = []\n",
    "for i in range(400):\n",
    "    if i%2==1 :\n",
    "        x_train.append(D[i])\n",
    "        y_train.append(labels[i])\n",
    "    else:\n",
    "        x_test.append(D[i])\n",
    "        y_test.append(labels[i])\n",
    "x_train, y_train, x_test, y_test = np.array(x_train), np.array(y_train), np.array(x_test), np.array(y_test)\n",
    "df_train = pd.DataFrame(x_train)\n",
    "df_test = pd.DataFrame(x_test)"
   ]
  },
  {
   "cell_type": "code",
   "execution_count": null,
   "metadata": {
    "execution": {
     "iopub.execute_input": "2023-03-17T19:26:37.670008Z",
     "iopub.status.busy": "2023-03-17T19:26:37.669671Z",
     "iopub.status.idle": "2023-03-17T19:26:37.714592Z",
     "shell.execute_reply": "2023-03-17T19:26:37.713327Z",
     "shell.execute_reply.started": "2023-03-17T19:26:37.669967Z"
    },
    "trusted": true
   },
   "outputs": [],
   "source": [
    "df_train"
   ]
  },
  {
   "cell_type": "markdown",
   "metadata": {},
   "source": [
    "# **PCA**"
   ]
  },
  {
   "cell_type": "code",
   "execution_count": null,
   "metadata": {
    "execution": {
     "iopub.execute_input": "2023-03-17T19:26:37.717632Z",
     "iopub.status.busy": "2023-03-17T19:26:37.717283Z",
     "iopub.status.idle": "2023-03-17T19:26:37.727660Z",
     "shell.execute_reply": "2023-03-17T19:26:37.726054Z",
     "shell.execute_reply.started": "2023-03-17T19:26:37.717597Z"
    },
    "trusted": true
   },
   "outputs": [],
   "source": [
    "def mean(data):\n",
    "    return np.mean(data)  #compute mean\n",
    "\n",
    "def center(data):\n",
    "    return data - mean(data)  #centeralize data\n",
    "\n",
    "def cov_matrix(data):\n",
    "    z = center(data)\n",
    "    return (np.matmul(np.transpose(z), z)) / len(data)  #compute covariance matrix\n",
    "\n",
    "def eigen(data):\n",
    "    cov = cov_matrix(data)\n",
    "    eig_values, eig_vectors = np.linalg.eigh(cov)\n",
    "    idx = eig_values.argsort()[::-1]  \n",
    "    eig_values = eig_values[idx]\n",
    "    eig_vectors = eig_vectors[:,idx]\n",
    "    return eig_values, eig_vectors    #compute eigen values, eigen vectors sorted\n",
    "\n",
    "def get_dimensionality(alpha, eigen_values):\n",
    "    total_sum = np.sum(eigen_values)\n",
    "    sum = 0\n",
    "    idx = 0\n",
    "    for value in eigen_values: \n",
    "        sum = sum + value\n",
    "        idx = idx + 1\n",
    "        if (sum / total_sum >= alpha):\n",
    "            break\n",
    "    return idx   #choose dimensionality for given alpha\n"
   ]
  },
  {
   "cell_type": "code",
   "execution_count": null,
   "metadata": {
    "execution": {
     "iopub.execute_input": "2023-03-17T15:40:00.566499Z",
     "iopub.status.busy": "2023-03-17T15:40:00.566108Z",
     "iopub.status.idle": "2023-03-17T15:42:43.338470Z",
     "shell.execute_reply": "2023-03-17T15:42:43.337154Z",
     "shell.execute_reply.started": "2023-03-17T15:40:00.566465Z"
    },
    "trusted": true
   },
   "outputs": [],
   "source": [
    "alphas = [0.8, 0.85, 0.9, 0.95]\n",
    "means = mean(df_train)\n",
    "Z = center(df_train)\n",
    "eigen_values, eigen_vectors = eigen(df_train)\n",
    "new_dims=[]\n",
    "for alpha in alphas:\n",
    "    new_dims.append(get_dimensionality(alpha, eigen_values))\n",
    "    "
   ]
  },
  {
   "cell_type": "code",
   "execution_count": null,
   "metadata": {
    "execution": {
     "iopub.execute_input": "2023-03-17T15:42:43.340194Z",
     "iopub.status.busy": "2023-03-17T15:42:43.339873Z",
     "iopub.status.idle": "2023-03-17T15:42:43.348916Z",
     "shell.execute_reply": "2023-03-17T15:42:43.347646Z",
     "shell.execute_reply.started": "2023-03-17T15:42:43.340162Z"
    },
    "trusted": true
   },
   "outputs": [],
   "source": [
    "eigen_vectors.shape"
   ]
  },
  {
   "cell_type": "code",
   "execution_count": null,
   "metadata": {
    "execution": {
     "iopub.status.busy": "2023-03-17T11:36:15.527630Z",
     "iopub.status.idle": "2023-03-17T11:36:15.528168Z",
     "shell.execute_reply": "2023-03-17T11:36:15.527991Z",
     "shell.execute_reply.started": "2023-03-17T11:36:15.527967Z"
    },
    "trusted": true
   },
   "outputs": [],
   "source": [
    "new_dims"
   ]
  },
  {
   "cell_type": "code",
   "execution_count": null,
   "metadata": {
    "execution": {
     "iopub.execute_input": "2023-03-14T10:42:11.801755Z",
     "iopub.status.busy": "2023-03-14T10:42:11.800906Z",
     "iopub.status.idle": "2023-03-14T10:42:11.814957Z",
     "shell.execute_reply": "2023-03-14T10:42:11.812172Z",
     "shell.execute_reply.started": "2023-03-14T10:42:11.801718Z"
    },
    "trusted": true
   },
   "outputs": [],
   "source": [
    "for x in range(len(new_dims)):\n",
    "    \n",
    "    p_train_data = np.matmul(eigen_vectors[:, 0:new_dims[x]].T, df_train.T).T\n",
    "    p_test_data = np.matmul(eigen_vectors[:, 0:new_dims[x]].T, df_test.T).T\n",
    "\n",
    "    neigh = KNeighborsClassifier(n_neighbors=)\n",
    "    neigh.fit(p_train_data, y_train)\n",
    "\n",
    "    y_pred=neigh.predict(p_test_data)\n",
    "\n",
    "    print('accuracy for alpha = ',alphas[x])\n",
    "    print(classification_report(y_test, y_pred))"
   ]
  },
  {
   "cell_type": "code",
   "execution_count": null,
   "metadata": {
    "execution": {
     "iopub.status.busy": "2023-03-14T10:42:11.816296Z",
     "iopub.status.idle": "2023-03-14T10:42:11.816923Z",
     "shell.execute_reply": "2023-03-14T10:42:11.816713Z",
     "shell.execute_reply.started": "2023-03-14T10:42:11.816686Z"
    },
    "trusted": true
   },
   "outputs": [],
   "source": [
    "neigh = KNeighborsClassifier(n_neighbors=1)\n",
    "neigh.fit(x_train, y_train)\n",
    "\n",
    "y_pred=neigh.predict(x_test)\n",
    "\n",
    "print('accuracy for alpha = ',alphas[x])\n",
    "print(classification_report(y_test, y_pred))"
   ]
  },
  {
   "cell_type": "code",
   "execution_count": null,
   "metadata": {
    "execution": {
     "iopub.status.busy": "2023-03-14T10:42:11.818627Z",
     "iopub.status.idle": "2023-03-14T10:42:11.819197Z",
     "shell.execute_reply": "2023-03-14T10:42:11.818933Z",
     "shell.execute_reply.started": "2023-03-14T10:42:11.818901Z"
    },
    "trusted": true
   },
   "outputs": [],
   "source": [
    "print( y_pred)\n",
    "print(y_test)"
   ]
  },
  {
   "cell_type": "markdown",
   "metadata": {},
   "source": [
    "# LDA"
   ]
  },
  {
   "cell_type": "code",
   "execution_count": null,
   "metadata": {
    "execution": {
     "iopub.execute_input": "2023-03-17T15:51:49.311015Z",
     "iopub.status.busy": "2023-03-17T15:51:49.310584Z",
     "iopub.status.idle": "2023-03-17T15:51:57.781871Z",
     "shell.execute_reply": "2023-03-17T15:51:57.780721Z",
     "shell.execute_reply.started": "2023-03-17T15:51:49.310978Z"
    },
    "trusted": true
   },
   "outputs": [],
   "source": [
    "df_train['class'] = y_train\n",
    "class_mean_df = df_train.groupby(by='class').agg(['mean'],axis='columns')\n",
    "class_mean = np.array(class_mean_df)     #Calculaing mean for every class \n",
    "sample_mean = df_train.mean()            #Calcuaing sample mean"
   ]
  },
  {
   "cell_type": "code",
   "execution_count": null,
   "metadata": {
    "_kg_hide-output": true,
    "execution": {
     "iopub.execute_input": "2023-03-17T16:24:23.907810Z",
     "iopub.status.busy": "2023-03-17T16:24:23.907395Z",
     "iopub.status.idle": "2023-03-17T16:24:46.614588Z",
     "shell.execute_reply": "2023-03-17T16:24:46.613466Z",
     "shell.execute_reply.started": "2023-03-17T16:24:23.907774Z"
    },
    "trusted": true
   },
   "outputs": [],
   "source": [
    "sample_mean=pd.DataFrame(np.array(df_train.mean()).T)\n",
    "\n",
    "sb=np.zeros((10304,10304))\n",
    "\n",
    "for row in range(1,41): #Calculating Sb matrix\n",
    "    \n",
    "    row_vector = (np.array(class_mean_df.loc[str(row)]).reshape(10304,1))-(np.array(sample_mean)[:-1])\n",
    "    sb = sb+(5*(np.matmul(row_vector,row_vector.T)))\n",
    "    "
   ]
  },
  {
   "cell_type": "code",
   "execution_count": null,
   "metadata": {
    "execution": {
     "iopub.execute_input": "2023-03-17T16:24:46.616715Z",
     "iopub.status.busy": "2023-03-17T16:24:46.616350Z",
     "iopub.status.idle": "2023-03-17T16:24:46.624906Z",
     "shell.execute_reply": "2023-03-17T16:24:46.623760Z",
     "shell.execute_reply.started": "2023-03-17T16:24:46.616682Z"
    },
    "trusted": true
   },
   "outputs": [],
   "source": [
    "sb"
   ]
  },
  {
   "cell_type": "code",
   "execution_count": null,
   "metadata": {
    "execution": {
     "iopub.execute_input": "2023-03-17T15:52:32.038556Z",
     "iopub.status.busy": "2023-03-17T15:52:32.038170Z",
     "iopub.status.idle": "2023-03-17T15:52:32.497823Z",
     "shell.execute_reply": "2023-03-17T15:52:32.496881Z",
     "shell.execute_reply.started": "2023-03-17T15:52:32.038522Z"
    },
    "trusted": true
   },
   "outputs": [],
   "source": [
    "z_df=pd.DataFrame()\n",
    "for i in range(1,41):\n",
    "    x=pd.DataFrame(df_train.loc[df_train['class']==str(i)].drop(columns='class').values-(class_mean_df.loc[str(i)]).values)\n",
    "    x['class']=str(i)\n",
    "    z_df=z_df.append(x)  "
   ]
  },
  {
   "cell_type": "code",
   "execution_count": null,
   "metadata": {
    "execution": {
     "iopub.execute_input": "2023-03-17T16:04:38.330812Z",
     "iopub.status.busy": "2023-03-17T16:04:38.329718Z",
     "iopub.status.idle": "2023-03-17T16:04:38.338999Z",
     "shell.execute_reply": "2023-03-17T16:04:38.337745Z",
     "shell.execute_reply.started": "2023-03-17T16:04:38.330749Z"
    },
    "trusted": true
   },
   "outputs": [],
   "source": [
    "s_df"
   ]
  },
  {
   "cell_type": "code",
   "execution_count": null,
   "metadata": {
    "execution": {
     "iopub.execute_input": "2023-03-17T15:52:35.706657Z",
     "iopub.status.busy": "2023-03-17T15:52:35.706286Z",
     "iopub.status.idle": "2023-03-17T15:53:18.215247Z",
     "shell.execute_reply": "2023-03-17T15:53:18.214065Z",
     "shell.execute_reply.started": "2023-03-17T15:52:35.706625Z"
    },
    "trusted": true
   },
   "outputs": [],
   "source": [
    "s_df=np.zeros((10304,10304))\n",
    "for row in range(1,41): #Calculating S matrix\n",
    "    mat=np.array(z_df[z_df[\"class\"]==str(row)].drop(columns=[\"class\"]))\n",
    "    x=np.matmul(mat.T,mat)\n",
    "    s_df=s_df+x"
   ]
  },
  {
   "cell_type": "code",
   "execution_count": null,
   "metadata": {
    "execution": {
     "iopub.execute_input": "2023-03-17T15:53:18.217983Z",
     "iopub.status.busy": "2023-03-17T15:53:18.217517Z",
     "iopub.status.idle": "2023-03-17T15:54:06.694553Z",
     "shell.execute_reply": "2023-03-17T15:54:06.693321Z",
     "shell.execute_reply.started": "2023-03-17T15:53:18.217936Z"
    },
    "trusted": true
   },
   "outputs": [],
   "source": [
    "s_inv=inv(s_df)"
   ]
  },
  {
   "cell_type": "code",
   "execution_count": null,
   "metadata": {
    "execution": {
     "iopub.execute_input": "2023-03-17T16:26:37.369943Z",
     "iopub.status.busy": "2023-03-17T16:26:37.369523Z",
     "iopub.status.idle": "2023-03-17T16:30:04.314395Z",
     "shell.execute_reply": "2023-03-17T16:30:04.313079Z",
     "shell.execute_reply.started": "2023-03-17T16:26:37.369905Z"
    },
    "trusted": true
   },
   "outputs": [],
   "source": [
    "eig_values_lda, eig_vectors_lda = np.linalg.eigh(np.matmul(s_inv,sb))"
   ]
  },
  {
   "cell_type": "code",
   "execution_count": null,
   "metadata": {
    "execution": {
     "iopub.execute_input": "2023-03-17T16:32:21.148937Z",
     "iopub.status.busy": "2023-03-17T16:32:21.148449Z",
     "iopub.status.idle": "2023-03-17T16:32:22.109820Z",
     "shell.execute_reply": "2023-03-17T16:32:22.108874Z",
     "shell.execute_reply.started": "2023-03-17T16:32:21.148897Z"
    },
    "trusted": true
   },
   "outputs": [],
   "source": [
    "idx = eig_values_lda.argsort()[::-1]\n",
    "eig_vectors_lda=eig_vectors_lda[:,idx]"
   ]
  },
  {
   "cell_type": "code",
   "execution_count": null,
   "metadata": {
    "execution": {
     "iopub.execute_input": "2023-03-17T16:32:22.509036Z",
     "iopub.status.busy": "2023-03-17T16:32:22.508284Z",
     "iopub.status.idle": "2023-03-17T16:32:22.517311Z",
     "shell.execute_reply": "2023-03-17T16:32:22.516146Z",
     "shell.execute_reply.started": "2023-03-17T16:32:22.508995Z"
    },
    "trusted": true
   },
   "outputs": [],
   "source": [
    "U_lda=eig_vectors_lda[:,0:39]"
   ]
  },
  {
   "cell_type": "code",
   "execution_count": null,
   "metadata": {
    "execution": {
     "iopub.execute_input": "2023-03-17T16:32:23.945077Z",
     "iopub.status.busy": "2023-03-17T16:32:23.943807Z",
     "iopub.status.idle": "2023-03-17T16:32:23.951930Z",
     "shell.execute_reply": "2023-03-17T16:32:23.950720Z",
     "shell.execute_reply.started": "2023-03-17T16:32:23.945028Z"
    },
    "trusted": true
   },
   "outputs": [],
   "source": [
    "eig_vectors_lda.shape"
   ]
  },
  {
   "cell_type": "code",
   "execution_count": null,
   "metadata": {
    "execution": {
     "iopub.execute_input": "2023-03-17T21:38:09.687887Z",
     "iopub.status.busy": "2023-03-17T21:38:09.686964Z",
     "iopub.status.idle": "2023-03-17T21:38:09.696640Z",
     "shell.execute_reply": "2023-03-17T21:38:09.695167Z",
     "shell.execute_reply.started": "2023-03-17T21:38:09.687823Z"
    },
    "trusted": true
   },
   "outputs": [],
   "source": [
    "def eigen_faces(eigen_vectors):\n",
    "    fig, axes = plt.subplots(10, 4, figsize=(40, 40),\n",
    "                            subplot_kw={'xticks':[], 'yticks':[] })\n",
    "    for i, ax in enumerate(axes.flat):\n",
    "        if i >= 39:\n",
    "            break\n",
    "        ax.imshow(eigen_vectors[:,i].reshape(112, 92), cmap='gray')\n",
    "        ax.set_title('Face: {}'.format(i+1))\n",
    "    plt.show()\n",
    "#eigen_faces(U_lda)"
   ]
  },
  {
   "cell_type": "code",
   "execution_count": null,
   "metadata": {
    "execution": {
     "iopub.execute_input": "2023-03-17T16:33:57.618964Z",
     "iopub.status.busy": "2023-03-17T16:33:57.618517Z",
     "iopub.status.idle": "2023-03-17T16:33:57.626525Z",
     "shell.execute_reply": "2023-03-17T16:33:57.625134Z",
     "shell.execute_reply.started": "2023-03-17T16:33:57.618921Z"
    },
    "trusted": true
   },
   "outputs": [],
   "source": [
    "U_lda.shape"
   ]
  },
  {
   "cell_type": "code",
   "execution_count": null,
   "metadata": {
    "execution": {
     "iopub.execute_input": "2023-03-17T16:39:56.531222Z",
     "iopub.status.busy": "2023-03-17T16:39:56.530142Z",
     "iopub.status.idle": "2023-03-17T16:39:56.568579Z",
     "shell.execute_reply": "2023-03-17T16:39:56.566915Z",
     "shell.execute_reply.started": "2023-03-17T16:39:56.531181Z"
    },
    "trusted": true
   },
   "outputs": [],
   "source": [
    "lda_train_p = np.matmul(U_lda.T, np.array(df_train.drop(columns=[\"class\"])).T).T\n",
    "lda_test_p = np.matmul(U_lda.T, np.array(df_test.T)).T\n"
   ]
  },
  {
   "cell_type": "code",
   "execution_count": null,
   "metadata": {
    "execution": {
     "iopub.execute_input": "2023-03-17T16:43:03.916723Z",
     "iopub.status.busy": "2023-03-17T16:43:03.916283Z",
     "iopub.status.idle": "2023-03-17T16:43:03.957302Z",
     "shell.execute_reply": "2023-03-17T16:43:03.955612Z",
     "shell.execute_reply.started": "2023-03-17T16:43:03.916683Z"
    },
    "trusted": true
   },
   "outputs": [],
   "source": [
    "neigh = KNeighborsClassifier(n_neighbors=1)\n",
    "neigh.fit(lda_train_p, y_train)\n",
    "\n",
    "y_pred=neigh.predict(lda_test_p)\n",
    "\n",
    "print(classification_report(y_test, y_pred))"
   ]
  },
  {
   "cell_type": "markdown",
   "metadata": {},
   "source": [
    "# non-face"
   ]
  },
  {
   "cell_type": "code",
   "execution_count": null,
   "metadata": {
    "execution": {
     "iopub.execute_input": "2023-03-17T19:26:38.203377Z",
     "iopub.status.busy": "2023-03-17T19:26:38.202246Z",
     "iopub.status.idle": "2023-03-17T19:27:24.574510Z",
     "shell.execute_reply": "2023-03-17T19:27:24.573154Z",
     "shell.execute_reply.started": "2023-03-17T19:26:38.203314Z"
    },
    "trusted": true
   },
   "outputs": [],
   "source": [
    "def get_images(directory):\n",
    "    dir=os.listdir('/kaggle/input/natural-images/natural_images/')[:-1]\n",
    "    Images = []\n",
    "    Labels = []  # 0 for airplane , 1 for car, 2 for cat, 3 for dog, 4 for flower , 5 for fruit, 6 for motorbike, 7 for person\n",
    "    label = 0\n",
    "    \n",
    "    for labels in os.listdir('/kaggle/input/natural-images/natural_images/'): #Main Directory where each class label is present as folder name.\n",
    "        if labels == 'airplane': \n",
    "            label = 0\n",
    "        elif labels == 'car':\n",
    "            label = 1\n",
    "        elif labels == 'cat':\n",
    "            label = 2\n",
    "        elif labels == 'dog':\n",
    "            label = 3\n",
    "        elif labels == 'flower':\n",
    "            label = 4\n",
    "        elif labels == 'fruit':\n",
    "            label = 5\n",
    "        elif labels == 'motorbike':\n",
    "            label = 6\n",
    "        \n",
    "        for image_file in os.listdir('/kaggle/input/natural-images/natural_images/'+labels): #Extracting the file name of the image from Class Label folder\n",
    "            image = cv2.imread('/kaggle/input/natural-images/natural_images/'+labels+'/'+image_file) #Reading the image (OpenCV)\n",
    "            image = cv2.resize(image,(112,92)) #Resize the image, Some images are different sizes. (Resizing is very Important)\n",
    "            greyscale= cv2.cvtColor(image, cv2.COLOR_BGR2GRAY)\n",
    "            \n",
    "            Images.append(greyscale)\n",
    "            Labels.append(label)\n",
    "            \n",
    "#     return Images, Labels\n",
    "    return (Images,Labels)            \n",
    "\n",
    "def get_classlabel(class_code):\n",
    "    labels = {0:'airplane', 1:'car', 2:'cat', 3:'dog', 4:'flower', 5:'fruit', 5:'motorbike'}\n",
    "    \n",
    "    return labels[class_code]\n",
    "X,Y=get_images('/kaggle/input/natural-images/natural_images/')\n",
    "\n"
   ]
  },
  {
   "cell_type": "code",
   "execution_count": null,
   "metadata": {
    "execution": {
     "iopub.execute_input": "2023-03-17T19:27:24.577233Z",
     "iopub.status.busy": "2023-03-17T19:27:24.576869Z",
     "iopub.status.idle": "2023-03-17T19:27:24.591034Z",
     "shell.execute_reply": "2023-03-17T19:27:24.589576Z",
     "shell.execute_reply.started": "2023-03-17T19:27:24.577200Z"
    },
    "trusted": true
   },
   "outputs": [],
   "source": [
    "images=X[:400]\n",
    "np.array(images).shape\n",
    "non_face = np.array(images).reshape((400, 10304))\n",
    "non_face_df=pd.DataFrame(non_face)"
   ]
  },
  {
   "cell_type": "code",
   "execution_count": null,
   "metadata": {
    "execution": {
     "iopub.execute_input": "2023-03-17T19:27:24.594886Z",
     "iopub.status.busy": "2023-03-17T19:27:24.593985Z",
     "iopub.status.idle": "2023-03-17T19:27:24.619327Z",
     "shell.execute_reply": "2023-03-17T19:27:24.618055Z",
     "shell.execute_reply.started": "2023-03-17T19:27:24.594830Z"
    },
    "trusted": true
   },
   "outputs": [],
   "source": [
    "non_face_df"
   ]
  },
  {
   "cell_type": "code",
   "execution_count": null,
   "metadata": {
    "execution": {
     "iopub.execute_input": "2023-03-17T19:46:35.493821Z",
     "iopub.status.busy": "2023-03-17T19:46:35.493399Z",
     "iopub.status.idle": "2023-03-17T19:46:35.529599Z",
     "shell.execute_reply": "2023-03-17T19:46:35.528197Z",
     "shell.execute_reply.started": "2023-03-17T19:46:35.493786Z"
    },
    "trusted": true
   },
   "outputs": [],
   "source": [
    "non_faces_train = non_face_df.head(200)\n",
    "non_faces_test = non_face_df.tail(200)\n",
    "\n",
    "non_faces_train['class'] = 0\n",
    "non_faces_test['class'] = 0\n",
    "\n",
    "df_train2=df_train\n",
    "df_train2['class'] = 1\n",
    "\n",
    "df_test2=df_test\n",
    "df_test2['class'] = 1\n",
    "\n",
    "non_faces_train=non_faces_train.append(df_train2)\n",
    "non_faces_test=non_faces_train.append(df_test2)"
   ]
  },
  {
   "cell_type": "code",
   "execution_count": null,
   "metadata": {
    "execution": {
     "iopub.execute_input": "2023-03-17T19:47:02.179604Z",
     "iopub.status.busy": "2023-03-17T19:47:02.179175Z",
     "iopub.status.idle": "2023-03-17T19:47:02.204817Z",
     "shell.execute_reply": "2023-03-17T19:47:02.203558Z",
     "shell.execute_reply.started": "2023-03-17T19:47:02.179565Z"
    },
    "trusted": true
   },
   "outputs": [],
   "source": [
    "non_faces_train"
   ]
  },
  {
   "cell_type": "code",
   "execution_count": null,
   "metadata": {
    "execution": {
     "iopub.execute_input": "2023-03-17T21:33:13.947701Z",
     "iopub.status.busy": "2023-03-17T21:33:13.947272Z",
     "iopub.status.idle": "2023-03-17T21:33:13.961823Z",
     "shell.execute_reply": "2023-03-17T21:33:13.960678Z",
     "shell.execute_reply.started": "2023-03-17T21:33:13.947661Z"
    },
    "trusted": true
   },
   "outputs": [],
   "source": [
    "def LDA(df_train,df_test,dimensionality):\n",
    "    class_mean_df = df_train.groupby(by='class').agg(['mean'],axis='columns')\n",
    "    class_mean = np.array(class_mean_df)     #Calculaing mean for every class \n",
    "    sample_mean = df_train.mean()\n",
    "    \n",
    "    sample_mean=pd.DataFrame(np.array(df_train.mean()).T)\n",
    "\n",
    "    sb=np.zeros((10304,10304))\n",
    "    for row in range(2): #Calculating Sb matrix\n",
    "        row_vector = (np.array(class_mean_df.loc[row]).reshape(10304,1))-(np.array(sample_mean)[:-1])\n",
    "        sb = sb+(2*(np.matmul(row_vector,row_vector.T)))\n",
    "\n",
    "\n",
    "        \n",
    "    z_df=pd.DataFrame()\n",
    "    for i in range(2):\n",
    "        x=pd.DataFrame(df_train.loc[df_train['class']==i].drop(columns='class').values-(class_mean_df.loc[i]).values)\n",
    "        x['class']=i\n",
    "        z_df=z_df.append(x) \n",
    "        \n",
    "        \n",
    "        \n",
    "    s_df=np.zeros((10304,10304))\n",
    "    for row in range(2): #Calculating S matrix\n",
    "        mat=np.array(z_df[z_df[\"class\"]==row].drop(columns=[\"class\"]))\n",
    "        print(mat)\n",
    "        x=np.matmul(mat.T,mat)\n",
    "        s_df=s_df+x\n",
    "        \n",
    "\n",
    "        \n",
    "    s_inv=inv(s_df)\n",
    "    \n",
    "    \n",
    "    eig_values_lda, eig_vectors_lda = np.linalg.eigh(np.matmul(s_inv,sb))\n",
    "    \n",
    "    \n",
    "    idx = eig_values_lda.argsort()[::-1]\n",
    "    eig_vectors_lda=eig_vectors_lda[:,idx]\n",
    "    U_lda=eig_vectors_lda[:,0:dimensionality]\n",
    "    \n",
    "    \n",
    "    lda_train_p = np.matmul(U_lda.T, np.array(df_train.drop(columns=[\"class\"])).T).T\n",
    "    lda_test_p = np.matmul(U_lda.T, np.array(df_test.drop(columns=[\"class\"])).T).T\n",
    "    \n",
    "    return (lda_train_p,lda_test_p,U_lda)\n",
    "    \n",
    "    \n",
    "    "
   ]
  },
  {
   "cell_type": "code",
   "execution_count": null,
   "metadata": {
    "execution": {
     "iopub.execute_input": "2023-03-17T21:39:26.143699Z",
     "iopub.status.busy": "2023-03-17T21:39:26.142877Z",
     "iopub.status.idle": "2023-03-17T21:44:03.877551Z",
     "shell.execute_reply": "2023-03-17T21:44:03.875608Z",
     "shell.execute_reply.started": "2023-03-17T21:39:26.143644Z"
    },
    "trusted": true
   },
   "outputs": [],
   "source": [
    "p_faces_train,p_faces_test,U_lda_nonfaces = LDA(non_faces_train,non_faces_test,1)"
   ]
  },
  {
   "cell_type": "code",
   "execution_count": null,
   "metadata": {
    "execution": {
     "iopub.execute_input": "2023-03-17T21:44:03.882453Z",
     "iopub.status.busy": "2023-03-17T21:44:03.881172Z",
     "iopub.status.idle": "2023-03-17T21:44:03.946727Z",
     "shell.execute_reply": "2023-03-17T21:44:03.942144Z",
     "shell.execute_reply.started": "2023-03-17T21:44:03.882371Z"
    },
    "trusted": true
   },
   "outputs": [],
   "source": [
    "neigh = KNeighborsClassifier(n_neighbors=1)\n",
    "neigh.fit(p_faces_train, non_faces_train['class'])\n",
    "\n",
    "y_pred=neigh.predict(p_faces_test)\n",
    "\n",
    "print(classification_report(non_faces_test['class'], y_pred))"
   ]
  },
  {
   "cell_type": "code",
   "execution_count": null,
   "metadata": {
    "execution": {
     "iopub.execute_input": "2023-03-17T21:38:19.318155Z",
     "iopub.status.busy": "2023-03-17T21:38:19.317724Z",
     "iopub.status.idle": "2023-03-17T21:38:21.877384Z",
     "shell.execute_reply": "2023-03-17T21:38:21.875527Z",
     "shell.execute_reply.started": "2023-03-17T21:38:19.318112Z"
    },
    "trusted": true
   },
   "outputs": [],
   "source": [
    "eigen_faces(U_lda_nonfaces)"
   ]
  },
  {
   "cell_type": "code",
   "execution_count": null,
   "metadata": {
    "trusted": true
   },
   "outputs": [],
   "source": [
    "class_mean_df = non_faces_train.groupby(by='class').agg(['mean'],axis='columns')\n",
    "class_mean_df.loc[0]"
   ]
  }
 ],
 "metadata": {
  "kernelspec": {
   "display_name": "Python 3",
   "language": "python",
   "name": "python3"
  },
  "language_info": {
   "codemirror_mode": {
    "name": "ipython",
    "version": 3
   },
   "file_extension": ".py",
   "mimetype": "text/x-python",
   "name": "python",
   "nbconvert_exporter": "python",
   "pygments_lexer": "ipython3",
   "version": "3.13.0"
  }
 },
 "nbformat": 4,
 "nbformat_minor": 4
}
